{
 "cells": [
  {
   "cell_type": "code",
   "execution_count": null,
   "id": "a24ac4c2-35c3-4240-8460-8069c257e643",
   "metadata": {},
   "outputs": [],
   "source": [
    "from flask import Flask, jsonify\n",
    "from flask import request\n",
    "from flasgger import Swagger, LazyString, LazyJSONEncoder\n",
    "from flasgger import swag_from\n",
    "import tensorflow as tf\n",
    "import pickle, re\n",
    "import numpy as np\n",
    "import sklearn\n",
    "import pandas as pd\n",
    "from tensorflow.keras.preprocessing.text import Tokenizer\n",
    "from keras.models import load_model\n",
    "from tensorflow.keras.preprocessing.sequence import pad_sequences"
   ]
  },
  {
   "cell_type": "markdown",
   "id": "cb92e8d5-5cea-40a9-87fb-7db428464dad",
   "metadata": {},
   "source": [
    "### Mempersiapkan Dataset ###"
   ]
  },
  {
   "cell_type": "markdown",
   "id": "1fae6e1f-3edf-4f8e-ab1e-26960f141d98",
   "metadata": {},
   "source": [
    "### Normalisasi Text ###"
   ]
  },
  {
   "cell_type": "code",
   "execution_count": null,
   "id": "966938f2-5e48-44ea-84fa-71303daef3d6",
   "metadata": {},
   "outputs": [],
   "source": [
    "#Cleansing Function\n",
    "def cleansing(sent):\n",
    "\n",
    "    string = sent.lower()\n",
    "    string = re.sub(r'[^a-zA-Z0-9]',' ',string)\n",
    "    string = re.sub('rt',' ',string) # Remove every retweet symbol\n",
    "    string = re.sub('user',' ',string) # Remove every username\n",
    "    string = re.sub('((www\\.[^\\s]+)|(https?://[^\\s]+)|(http?://[^\\s]+))',' ',string) # Remove every URL\n",
    "    return string"
   ]
  },
  {
   "cell_type": "markdown",
   "id": "791b629e-4991-4abe-aedb-9a35b11014d9",
   "metadata": {},
   "source": [
    "### Feature Extraction ###"
   ]
  },
  {
   "cell_type": "markdown",
   "id": "36f79cf9-c2f9-41f8-813d-0dddcd461eb9",
   "metadata": {},
   "source": [
    "### Prepare Train & Test Dataset ###"
   ]
  },
  {
   "cell_type": "markdown",
   "id": "483d030d-fffd-4f96-b3bd-5202aad24542",
   "metadata": {},
   "source": [
    "### Training Model ###"
   ]
  },
  {
   "cell_type": "markdown",
   "id": "f02db7f2-989b-49d1-8016-4f6d9d726a59",
   "metadata": {},
   "source": [
    "### Model Testing and Evaluation ###"
   ]
  },
  {
   "cell_type": "markdown",
   "id": "a4900004-823e-4502-b073-1e31627993a9",
   "metadata": {},
   "source": [
    "### Model Prediction ###"
   ]
  },
  {
   "cell_type": "markdown",
   "id": "93a46c11-92e4-43ed-a215-3dff634a4a78",
   "metadata": {},
   "source": [
    "### Model Deployment ###"
   ]
  },
  {
   "cell_type": "code",
   "execution_count": null,
   "id": "083c0169-acb4-453b-a970-9fd0c975f87c",
   "metadata": {},
   "outputs": [],
   "source": []
  }
 ],
 "metadata": {
  "kernelspec": {
   "display_name": "Python 3 (ipykernel)",
   "language": "python",
   "name": "python3"
  },
  "language_info": {
   "codemirror_mode": {
    "name": "ipython",
    "version": 3
   },
   "file_extension": ".py",
   "mimetype": "text/x-python",
   "name": "python",
   "nbconvert_exporter": "python",
   "pygments_lexer": "ipython3",
   "version": "3.10.9"
  }
 },
 "nbformat": 4,
 "nbformat_minor": 5
}
